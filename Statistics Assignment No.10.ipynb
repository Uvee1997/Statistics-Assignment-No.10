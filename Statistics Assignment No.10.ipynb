{
 "cells": [
  {
   "cell_type": "markdown",
   "id": "bb160e95",
   "metadata": {},
   "source": [
    "1) A chicken lays n eggs. Each egg independently does or doesn’t hatch, with probability p of\n",
    "   hatching. For each egg that hatches, the chick does or doesn’t survive (independently of the     \n",
    "   other eggs), with probability s of survival. Let N ⇠ Bin(n, p) be the number of eggs which\n",
    "   hatch, X be the number of chicks which survive, and Y be the number of chicks which hatch\n",
    "   but don’t survive (so X + Y = N). Find the marginal PMF of X, and the joint PMF of X and Y .\n",
    "   Are they independent?"
   ]
  },
  {
   "cell_type": "code",
   "execution_count": null,
   "id": "c3ec4619",
   "metadata": {},
   "outputs": [],
   "source": [
    "Ans:- \n",
    "\n",
    "Intuitively, the probability that a egg hatches and chick survives is ps. We can consider each egg as a Bernoulli trial each with a success (hatching and surviving) probability ps. There are n independent trials, so X∼Bin(n,ps).\n",
    "\n",
    "But I am trying to prove this more rigorously.\n",
    "\n",
    "For any 1≤i≤n we have\n",
    "P(X=i)=∑j=0nP(X=i|N=j)P(N=j)=∑j=inP(X=i|N=j)P(N=j)=∑j=in(ji)si(1−s)j−i(nj)pj(1−p)n−j\n",
    "How do I show that the above sum collapses to (ni)(ps)i(1−ps)n−i?\n",
    "\n",
    "Your intuition is correct. Algebraic demonstration of that fact can proceed as follows:\n",
    "\n",
    "P(X=i)=∑j=in(ji)si(1−s)j−i(nj)pj(1−p)n−j\n",
    "      =∑j=inj!i!(j−i)!n!j!(n−j)!si(1−s)j−ipj(1−p)n−j\n",
    "      =∑j=inn!i!(j−i)!(n−j)!si(1−s)j−ipj(1−p)n−j\n",
    "      =∑r=0n−in!i!r!(n−i−r)!si(1−s)rpr+i(1−p)n−i−r=n!i!(n−i)!(ps)i(1−p)n−i\n",
    "      ∑r=0n−i(n−i)!r!(n−i−r)!(1−s)rpr(1−p)−r=(ni)(ps)i(1−p)n−i∑r=0n−i(n−ir)((1−s)p1−p)r=(ni)(ps)i(1−p)n−i(1+(1−s)p1−p)n−i=(ni)(ps)i(1−p)n−i(1−p+p−ps1−p)n−i=(ni)(ps)i(1−p)n−i(1−ps1−p)n−i=(ni)(ps)i(1−ps)n−i=Bin(i|n,ps)."
   ]
  }
 ],
 "metadata": {
  "kernelspec": {
   "display_name": "Python 3 (ipykernel)",
   "language": "python",
   "name": "python3"
  },
  "language_info": {
   "codemirror_mode": {
    "name": "ipython",
    "version": 3
   },
   "file_extension": ".py",
   "mimetype": "text/x-python",
   "name": "python",
   "nbconvert_exporter": "python",
   "pygments_lexer": "ipython3",
   "version": "3.9.7"
  }
 },
 "nbformat": 4,
 "nbformat_minor": 5
}
